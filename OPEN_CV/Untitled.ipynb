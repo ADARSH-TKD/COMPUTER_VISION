{
 "cells": [
  {
   "cell_type": "code",
   "execution_count": 4,
   "id": "b96482c4-b3bc-4af8-ba89-8ea126c65c6d",
   "metadata": {},
   "outputs": [],
   "source": [
    "import cv2"
   ]
  },
  {
   "cell_type": "code",
   "execution_count": 2,
   "id": "4944f100-efa8-4e8b-a3f9-80574186fa30",
   "metadata": {},
   "outputs": [],
   "source": [
    "a=cv2.imread(\"love.jpg\")\n",
    "cv2.imshow(\"image\",a)\n",
    "cv2.waitKey(0)\n",
    "cv2.destroyAllWindows()"
   ]
  },
  {
   "cell_type": "code",
   "execution_count": 1,
   "id": "0e86be3e-5ca5-476e-b606-bcebadbc14dd",
   "metadata": {},
   "outputs": [],
   "source": [
    "import cv2\n",
    "\n",
    "# Load images into a dictionary\n",
    "images = {\n",
    "    \"image1\": cv2.imread(\"love.jpg\"),\n",
    "    \"image2\": cv2.imread(\"car.jpg\")\n",
    "}\n",
    "\n",
    "# Display all images in separate windows\n",
    "for name, img in images.items():\n",
    "    cv2.imshow(name, img)\n",
    "\n",
    "# Close windows one by one\n",
    "for name in images.keys():  # Correct method\n",
    "    cv2.waitKey(0)          # Wait for a key press\n",
    "    cv2.destroyWindow(name) # Close the specific window\n"
   ]
  },
  {
   "cell_type": "code",
   "execution_count": 2,
   "id": "f9d03532-58ec-4051-b946-145ca67fcdca",
   "metadata": {},
   "outputs": [
    {
     "name": "stdout",
     "output_type": "stream",
     "text": [
      "[[[ 70  63  68]\n",
      "  [ 71  64  69]\n",
      "  [ 73  66  71]\n",
      "  ...\n",
      "  [139  93 115]\n",
      "  [140  94 116]\n",
      "  [140  94 116]]\n",
      "\n",
      " [[ 71  64  69]\n",
      "  [ 72  65  70]\n",
      "  [ 73  66  71]\n",
      "  ...\n",
      "  [139  93 115]\n",
      "  [139  93 115]\n",
      "  [139  93 115]]\n",
      "\n",
      " [[ 72  65  68]\n",
      "  [ 73  66  69]\n",
      "  [ 74  67  70]\n",
      "  ...\n",
      "  [140  95 114]\n",
      "  [139  94 113]\n",
      "  [139  93 115]]\n",
      "\n",
      " ...\n",
      "\n",
      " [[  2  25  10]\n",
      "  [  2  25  10]\n",
      "  [  3  26  11]\n",
      "  ...\n",
      "  [  7  29  17]\n",
      "  [  6  29  15]\n",
      "  [  5  27  15]]\n",
      "\n",
      " [[  3  24   9]\n",
      "  [  3  24   9]\n",
      "  [  2  25  10]\n",
      "  ...\n",
      "  [  3  28  14]\n",
      "  [  2  28  12]\n",
      "  [  2  27  13]]\n",
      "\n",
      " [[  2  23   8]\n",
      "  [  2  23   8]\n",
      "  [  1  24   9]\n",
      "  ...\n",
      "  [  2  28  12]\n",
      "  [  1  27  11]\n",
      "  [  1  27  11]]]\n"
     ]
    }
   ],
   "source": [
    "print(cv2.imread(\"love.jpg\"))"
   ]
  },
  {
   "cell_type": "code",
   "execution_count": 4,
   "id": "f54ed83b-b15d-4e6d-86ef-f71afcbfa078",
   "metadata": {},
   "outputs": [],
   "source": [
    "import os\n",
    "l= os.listdir(r\"C:\\Users\\adarsh\\Downloads\\OPEN CV\\image\")"
   ]
  },
  {
   "cell_type": "code",
   "execution_count": 5,
   "id": "30b44176-d507-427c-90f6-9786cc01f9b6",
   "metadata": {},
   "outputs": [
    {
     "data": {
      "text/plain": [
       "['c5762af5-bc7f-4ec6-ac0c-7041b82ceada.jpg',\n",
       " 'f1802462-9b8d-40b9-99d8-8719b8b08fc2.jpg',\n",
       " 'f88ad8ba-6b97-48db-bfee-e8d5935c7218.jpg',\n",
       " 'kurobaaka shxmura.jpg',\n",
       " 'ronanmila.jpg',\n",
       " 'shudh desi romance ✨ (1).jpg']"
      ]
     },
     "execution_count": 5,
     "metadata": {},
     "output_type": "execute_result"
    }
   ],
   "source": [
    "l"
   ]
  },
  {
   "cell_type": "code",
   "execution_count": null,
   "id": "5a946051-574f-4688-9438-700beb2ec7f8",
   "metadata": {},
   "outputs": [],
   "source": []
  }
 ],
 "metadata": {
  "kernelspec": {
   "display_name": "Python 3 (ipykernel)",
   "language": "python",
   "name": "python3"
  },
  "language_info": {
   "codemirror_mode": {
    "name": "ipython",
    "version": 3
   },
   "file_extension": ".py",
   "mimetype": "text/x-python",
   "name": "python",
   "nbconvert_exporter": "python",
   "pygments_lexer": "ipython3",
   "version": "3.11.7"
  }
 },
 "nbformat": 4,
 "nbformat_minor": 5
}
